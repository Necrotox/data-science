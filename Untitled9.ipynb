{
 "cells": [
  {
   "cell_type": "code",
   "execution_count": 56,
   "id": "a1639734-963d-47b3-a05e-14cf0667fc23",
   "metadata": {},
   "outputs": [],
   "source": [
    "import joblib\n",
    "import pandas as pd\n",
    "\n",
    "from sklearn.pipeline import Pipeline\n",
    "from sklearn.impute import SimpleImputer\n",
    "from sklearn.model_selection import cross_val_score\n",
    "from sklearn.preprocessing import OneHotEncoder\n",
    "from sklearn.preprocessing import StandardScaler\n",
    "from sklearn.compose import ColumnTransformer, make_column_selector, make_column_transformer\n",
    "from sklearn.neural_network import MLPClassifier\n",
    "\n",
    "from sklearn.ensemble import RandomForestClassifier\n",
    "from sklearn.linear_model import LogisticRegression\n",
    "from sklearn.svm import SVC\n",
    "import pickle"
   ]
  },
  {
   "cell_type": "code",
   "execution_count": 3,
   "id": "3733a0ab-5b33-4bf7-b936-efb121147028",
   "metadata": {},
   "outputs": [],
   "source": [
    "pickle_filename = \"pickle-file_30.pickle\""
   ]
  },
  {
   "cell_type": "code",
   "execution_count": 27,
   "id": "d3329445-c28e-4532-adf7-92c30abca3af",
   "metadata": {},
   "outputs": [],
   "source": [
    "df = pd.read_csv('30.6 homework.csv')"
   ]
  },
  {
   "cell_type": "code",
   "execution_count": 28,
   "id": "3df836ce-2fcc-4a83-bf8e-84f0a742940b",
   "metadata": {},
   "outputs": [],
   "source": [
    "columns_to_drop = [\n",
    "        'id',\n",
    "        'url',\n",
    "        'region',\n",
    "        'region_url',\n",
    "        'price',\n",
    "        'manufacturer',\n",
    "        'image_url',\n",
    "        'description',\n",
    "        'posting_date',\n",
    "        'lat',\n",
    "        'long'\n",
    "    ]"
   ]
  },
  {
   "cell_type": "code",
   "execution_count": 29,
   "id": "343685cb-9fd8-4aa1-b93e-2f4ba257a769",
   "metadata": {},
   "outputs": [
    {
     "data": {
      "text/plain": [
       "(10000, 19)"
      ]
     },
     "execution_count": 29,
     "metadata": {},
     "output_type": "execute_result"
    }
   ],
   "source": [
    "df.shape"
   ]
  },
  {
   "cell_type": "code",
   "execution_count": 30,
   "id": "80bd6065-16fc-4f7d-aa97-4a0ca1e2bc66",
   "metadata": {},
   "outputs": [],
   "source": [
    "q25 = df['year'].quantile(0.25)\n",
    "q75 = df['year'].quantile(0.75)\n",
    "iqr = q75 - q25\n",
    "boundaries = (q25 - 1.5 * iqr, q75 + 1.5 * iqr)\n",
    "df.loc[df['year'] < boundaries[0], 'year'] = round(boundaries[0])\n",
    "df.loc[df['year'] > boundaries[1], 'year'] = round(boundaries[1])"
   ]
  },
  {
   "cell_type": "code",
   "execution_count": 31,
   "id": "3bc93d56-80cc-46c3-9f6d-59b4acbd5496",
   "metadata": {},
   "outputs": [
    {
     "data": {
      "text/plain": [
       "(10000, 19)"
      ]
     },
     "execution_count": 31,
     "metadata": {},
     "output_type": "execute_result"
    }
   ],
   "source": [
    "df.shape"
   ]
  },
  {
   "cell_type": "code",
   "execution_count": 32,
   "id": "a1141225-35b0-4bab-9c5a-2b25dc251e16",
   "metadata": {},
   "outputs": [
    {
     "data": {
      "text/plain": [
       "count    9964.000000\n",
       "mean     2011.669410\n",
       "std         6.516981\n",
       "min      1994.000000\n",
       "25%      2008.000000\n",
       "50%      2013.000000\n",
       "75%      2017.000000\n",
       "max      2022.000000\n",
       "Name: year, dtype: float64"
      ]
     },
     "execution_count": 32,
     "metadata": {},
     "output_type": "execute_result"
    }
   ],
   "source": [
    "df.year.describe()"
   ]
  },
  {
   "cell_type": "code",
   "execution_count": 33,
   "id": "b0c87a9f-1589-43d3-b72e-e5c38c41db86",
   "metadata": {},
   "outputs": [],
   "source": [
    "def short_model(x):\n",
    "    if not pd.isna(x):\n",
    "        return x.lower().split(' ')[0]\n",
    "    else:\n",
    "        return x"
   ]
  },
  {
   "cell_type": "code",
   "execution_count": 34,
   "id": "04ec5bd0-80ce-4cac-88ef-033b897a240b",
   "metadata": {},
   "outputs": [],
   "source": [
    "df['short_model'] = df['model'].apply(short_model)\n",
    "df['age_category'] = df['year'].apply(lambda x: 'new' if x > 2013 else ('old' if x < 2006 else 'average'))"
   ]
  },
  {
   "cell_type": "code",
   "execution_count": 58,
   "id": "20580690-b8ad-4257-a76d-9cb8e350501b",
   "metadata": {},
   "outputs": [
    {
     "data": {
      "text/plain": [
       "0         high\n",
       "1       medium\n",
       "2         high\n",
       "3       medium\n",
       "4       medium\n",
       "         ...  \n",
       "9995       low\n",
       "9996    medium\n",
       "9997       low\n",
       "9998      high\n",
       "9999      high\n",
       "Name: price_category, Length: 10000, dtype: object"
      ]
     },
     "execution_count": 58,
     "metadata": {},
     "output_type": "execute_result"
    }
   ],
   "source": [
    "df.price_category"
   ]
  },
  {
   "cell_type": "code",
   "execution_count": null,
   "id": "130e53ce-024b-4c05-b1c4-5f39ba12458a",
   "metadata": {},
   "outputs": [],
   "source": []
  },
  {
   "cell_type": "code",
   "execution_count": 46,
   "id": "ae7cd635-d0df-4dfe-88d2-27614f994036",
   "metadata": {},
   "outputs": [],
   "source": [
    "numerical = df.select_dtypes(include=['int64', 'float64']).columns\n",
    "categorical = df.select_dtypes(include=['object']).columns"
   ]
  },
  {
   "cell_type": "code",
   "execution_count": 47,
   "id": "87c6a121-dd6a-41de-a4a0-b7551c677f02",
   "metadata": {},
   "outputs": [
    {
     "data": {
      "text/plain": [
       "Index(['id', 'price', 'year', 'odometer', 'lat', 'long'], dtype='object')"
      ]
     },
     "execution_count": 47,
     "metadata": {},
     "output_type": "execute_result"
    }
   ],
   "source": [
    "numerical"
   ]
  },
  {
   "cell_type": "code",
   "execution_count": 48,
   "id": "e7db5058-d024-4c95-af94-93901a318d63",
   "metadata": {},
   "outputs": [
    {
     "data": {
      "text/plain": [
       "Index(['url', 'region', 'region_url', 'manufacturer', 'model', 'fuel',\n",
       "       'title_status', 'transmission', 'image_url', 'description', 'state',\n",
       "       'posting_date', 'price_category', 'short_model', 'age_category'],\n",
       "      dtype='object')"
      ]
     },
     "execution_count": 48,
     "metadata": {},
     "output_type": "execute_result"
    }
   ],
   "source": [
    "categorical"
   ]
  },
  {
   "cell_type": "code",
   "execution_count": 49,
   "id": "1dfc76c5-a650-4f40-980f-195da1331a93",
   "metadata": {},
   "outputs": [],
   "source": [
    "numerical_transformer = Pipeline(steps=[\n",
    "        ('imputer', SimpleImputer(strategy='median')),\n",
    "        ('scaler', StandardScaler())\n",
    "    ])"
   ]
  },
  {
   "cell_type": "code",
   "execution_count": 50,
   "id": "5d71d953-5284-4f44-bbf2-1537d5983cab",
   "metadata": {},
   "outputs": [],
   "source": [
    "categorical_transformer = Pipeline(steps=[\n",
    "        ('imputer', SimpleImputer(strategy='most_frequent')),\n",
    "        ('encoder', OneHotEncoder(handle_unknown='ignore'))\n",
    "    ])"
   ]
  },
  {
   "cell_type": "code",
   "execution_count": 51,
   "id": "ccfe0392-bf42-44c4-8d12-aa9ee82f73e6",
   "metadata": {},
   "outputs": [],
   "source": [
    "preprocessor = ColumnTransformer(transformers=[\n",
    "        ('numerical', numerical_transformer, numerical),\n",
    "        ('categorical', categorical_transformer, categorical)\n",
    "    ])"
   ]
  },
  {
   "cell_type": "code",
   "execution_count": 59,
   "id": "4ee2025b-bb4e-491b-af3d-5b1955c8b73c",
   "metadata": {},
   "outputs": [],
   "source": [
    "X = df.drop('price_category', axis=1)\n",
    "y = df['price_category']"
   ]
  },
  {
   "cell_type": "code",
   "execution_count": 60,
   "id": "6f9b506c-e71d-4b93-ae0c-5e0c05229468",
   "metadata": {},
   "outputs": [
    {
     "name": "stdout",
     "output_type": "stream",
     "text": [
      "model: LogisticRegression, acc_mean: nan, acc_std: nan\n",
      "model: RandomForestClassifier, acc_mean: nan, acc_std: nan\n",
      "model: MLPClassifier, acc_mean: nan, acc_std: nan\n"
     ]
    },
    {
     "name": "stderr",
     "output_type": "stream",
     "text": [
      "C:\\Users\\maubeastK\\anaconda3\\lib\\site-packages\\sklearn\\model_selection\\_validation.py:372: FitFailedWarning: \n",
      "4 fits failed out of a total of 4.\n",
      "The score on these train-test partitions for these parameters will be set to nan.\n",
      "If these failures are not expected, you can try to debug them by setting error_score='raise'.\n",
      "\n",
      "Below are more details about the failures:\n",
      "--------------------------------------------------------------------------------\n",
      "4 fits failed with the following error:\n",
      "Traceback (most recent call last):\n",
      "  File \"C:\\Users\\maubeastK\\anaconda3\\lib\\site-packages\\pandas\\core\\indexes\\base.py\", line 3621, in get_loc\n",
      "    return self._engine.get_loc(casted_key)\n",
      "  File \"pandas\\_libs\\index.pyx\", line 136, in pandas._libs.index.IndexEngine.get_loc\n",
      "  File \"pandas\\_libs\\index.pyx\", line 163, in pandas._libs.index.IndexEngine.get_loc\n",
      "  File \"pandas\\_libs\\hashtable_class_helper.pxi\", line 5198, in pandas._libs.hashtable.PyObjectHashTable.get_item\n",
      "  File \"pandas\\_libs\\hashtable_class_helper.pxi\", line 5206, in pandas._libs.hashtable.PyObjectHashTable.get_item\n",
      "KeyError: 'price_category'\n",
      "\n",
      "The above exception was the direct cause of the following exception:\n",
      "\n",
      "Traceback (most recent call last):\n",
      "  File \"C:\\Users\\maubeastK\\anaconda3\\lib\\site-packages\\sklearn\\utils\\__init__.py\", line 433, in _get_column_indices\n",
      "    col_idx = all_columns.get_loc(col)\n",
      "  File \"C:\\Users\\maubeastK\\anaconda3\\lib\\site-packages\\pandas\\core\\indexes\\base.py\", line 3623, in get_loc\n",
      "    raise KeyError(key) from err\n",
      "KeyError: 'price_category'\n",
      "\n",
      "The above exception was the direct cause of the following exception:\n",
      "\n",
      "Traceback (most recent call last):\n",
      "  File \"C:\\Users\\maubeastK\\anaconda3\\lib\\site-packages\\sklearn\\model_selection\\_validation.py\", line 680, in _fit_and_score\n",
      "    estimator.fit(X_train, y_train, **fit_params)\n",
      "  File \"C:\\Users\\maubeastK\\anaconda3\\lib\\site-packages\\sklearn\\pipeline.py\", line 390, in fit\n",
      "    Xt = self._fit(X, y, **fit_params_steps)\n",
      "  File \"C:\\Users\\maubeastK\\anaconda3\\lib\\site-packages\\sklearn\\pipeline.py\", line 348, in _fit\n",
      "    X, fitted_transformer = fit_transform_one_cached(\n",
      "  File \"C:\\Users\\maubeastK\\anaconda3\\lib\\site-packages\\joblib\\memory.py\", line 349, in __call__\n",
      "    return self.func(*args, **kwargs)\n",
      "  File \"C:\\Users\\maubeastK\\anaconda3\\lib\\site-packages\\sklearn\\pipeline.py\", line 893, in _fit_transform_one\n",
      "    res = transformer.fit_transform(X, y, **fit_params)\n",
      "  File \"C:\\Users\\maubeastK\\anaconda3\\lib\\site-packages\\sklearn\\compose\\_column_transformer.py\", line 672, in fit_transform\n",
      "    self._validate_column_callables(X)\n",
      "  File \"C:\\Users\\maubeastK\\anaconda3\\lib\\site-packages\\sklearn\\compose\\_column_transformer.py\", line 352, in _validate_column_callables\n",
      "    transformer_to_input_indices[name] = _get_column_indices(X, columns)\n",
      "  File \"C:\\Users\\maubeastK\\anaconda3\\lib\\site-packages\\sklearn\\utils\\__init__.py\", line 441, in _get_column_indices\n",
      "    raise ValueError(\"A given column is not a column of the dataframe\") from e\n",
      "ValueError: A given column is not a column of the dataframe\n",
      "\n",
      "  warnings.warn(some_fits_failed_message, FitFailedWarning)\n",
      "C:\\Users\\maubeastK\\anaconda3\\lib\\site-packages\\sklearn\\model_selection\\_validation.py:372: FitFailedWarning: \n",
      "4 fits failed out of a total of 4.\n",
      "The score on these train-test partitions for these parameters will be set to nan.\n",
      "If these failures are not expected, you can try to debug them by setting error_score='raise'.\n",
      "\n",
      "Below are more details about the failures:\n",
      "--------------------------------------------------------------------------------\n",
      "4 fits failed with the following error:\n",
      "Traceback (most recent call last):\n",
      "  File \"C:\\Users\\maubeastK\\anaconda3\\lib\\site-packages\\pandas\\core\\indexes\\base.py\", line 3621, in get_loc\n",
      "    return self._engine.get_loc(casted_key)\n",
      "  File \"pandas\\_libs\\index.pyx\", line 136, in pandas._libs.index.IndexEngine.get_loc\n",
      "  File \"pandas\\_libs\\index.pyx\", line 163, in pandas._libs.index.IndexEngine.get_loc\n",
      "  File \"pandas\\_libs\\hashtable_class_helper.pxi\", line 5198, in pandas._libs.hashtable.PyObjectHashTable.get_item\n",
      "  File \"pandas\\_libs\\hashtable_class_helper.pxi\", line 5206, in pandas._libs.hashtable.PyObjectHashTable.get_item\n",
      "KeyError: 'price_category'\n",
      "\n",
      "The above exception was the direct cause of the following exception:\n",
      "\n",
      "Traceback (most recent call last):\n",
      "  File \"C:\\Users\\maubeastK\\anaconda3\\lib\\site-packages\\sklearn\\utils\\__init__.py\", line 433, in _get_column_indices\n",
      "    col_idx = all_columns.get_loc(col)\n",
      "  File \"C:\\Users\\maubeastK\\anaconda3\\lib\\site-packages\\pandas\\core\\indexes\\base.py\", line 3623, in get_loc\n",
      "    raise KeyError(key) from err\n",
      "KeyError: 'price_category'\n",
      "\n",
      "The above exception was the direct cause of the following exception:\n",
      "\n",
      "Traceback (most recent call last):\n",
      "  File \"C:\\Users\\maubeastK\\anaconda3\\lib\\site-packages\\sklearn\\model_selection\\_validation.py\", line 680, in _fit_and_score\n",
      "    estimator.fit(X_train, y_train, **fit_params)\n",
      "  File \"C:\\Users\\maubeastK\\anaconda3\\lib\\site-packages\\sklearn\\pipeline.py\", line 390, in fit\n",
      "    Xt = self._fit(X, y, **fit_params_steps)\n",
      "  File \"C:\\Users\\maubeastK\\anaconda3\\lib\\site-packages\\sklearn\\pipeline.py\", line 348, in _fit\n",
      "    X, fitted_transformer = fit_transform_one_cached(\n",
      "  File \"C:\\Users\\maubeastK\\anaconda3\\lib\\site-packages\\joblib\\memory.py\", line 349, in __call__\n",
      "    return self.func(*args, **kwargs)\n",
      "  File \"C:\\Users\\maubeastK\\anaconda3\\lib\\site-packages\\sklearn\\pipeline.py\", line 893, in _fit_transform_one\n",
      "    res = transformer.fit_transform(X, y, **fit_params)\n",
      "  File \"C:\\Users\\maubeastK\\anaconda3\\lib\\site-packages\\sklearn\\compose\\_column_transformer.py\", line 672, in fit_transform\n",
      "    self._validate_column_callables(X)\n",
      "  File \"C:\\Users\\maubeastK\\anaconda3\\lib\\site-packages\\sklearn\\compose\\_column_transformer.py\", line 352, in _validate_column_callables\n",
      "    transformer_to_input_indices[name] = _get_column_indices(X, columns)\n",
      "  File \"C:\\Users\\maubeastK\\anaconda3\\lib\\site-packages\\sklearn\\utils\\__init__.py\", line 441, in _get_column_indices\n",
      "    raise ValueError(\"A given column is not a column of the dataframe\") from e\n",
      "ValueError: A given column is not a column of the dataframe\n",
      "\n",
      "  warnings.warn(some_fits_failed_message, FitFailedWarning)\n",
      "C:\\Users\\maubeastK\\anaconda3\\lib\\site-packages\\sklearn\\model_selection\\_validation.py:372: FitFailedWarning: \n",
      "4 fits failed out of a total of 4.\n",
      "The score on these train-test partitions for these parameters will be set to nan.\n",
      "If these failures are not expected, you can try to debug them by setting error_score='raise'.\n",
      "\n",
      "Below are more details about the failures:\n",
      "--------------------------------------------------------------------------------\n",
      "4 fits failed with the following error:\n",
      "Traceback (most recent call last):\n",
      "  File \"C:\\Users\\maubeastK\\anaconda3\\lib\\site-packages\\pandas\\core\\indexes\\base.py\", line 3621, in get_loc\n",
      "    return self._engine.get_loc(casted_key)\n",
      "  File \"pandas\\_libs\\index.pyx\", line 136, in pandas._libs.index.IndexEngine.get_loc\n",
      "  File \"pandas\\_libs\\index.pyx\", line 163, in pandas._libs.index.IndexEngine.get_loc\n",
      "  File \"pandas\\_libs\\hashtable_class_helper.pxi\", line 5198, in pandas._libs.hashtable.PyObjectHashTable.get_item\n",
      "  File \"pandas\\_libs\\hashtable_class_helper.pxi\", line 5206, in pandas._libs.hashtable.PyObjectHashTable.get_item\n",
      "KeyError: 'price_category'\n",
      "\n",
      "The above exception was the direct cause of the following exception:\n",
      "\n",
      "Traceback (most recent call last):\n",
      "  File \"C:\\Users\\maubeastK\\anaconda3\\lib\\site-packages\\sklearn\\utils\\__init__.py\", line 433, in _get_column_indices\n",
      "    col_idx = all_columns.get_loc(col)\n",
      "  File \"C:\\Users\\maubeastK\\anaconda3\\lib\\site-packages\\pandas\\core\\indexes\\base.py\", line 3623, in get_loc\n",
      "    raise KeyError(key) from err\n",
      "KeyError: 'price_category'\n",
      "\n",
      "The above exception was the direct cause of the following exception:\n",
      "\n",
      "Traceback (most recent call last):\n",
      "  File \"C:\\Users\\maubeastK\\anaconda3\\lib\\site-packages\\sklearn\\model_selection\\_validation.py\", line 680, in _fit_and_score\n",
      "    estimator.fit(X_train, y_train, **fit_params)\n",
      "  File \"C:\\Users\\maubeastK\\anaconda3\\lib\\site-packages\\sklearn\\pipeline.py\", line 390, in fit\n",
      "    Xt = self._fit(X, y, **fit_params_steps)\n",
      "  File \"C:\\Users\\maubeastK\\anaconda3\\lib\\site-packages\\sklearn\\pipeline.py\", line 348, in _fit\n",
      "    X, fitted_transformer = fit_transform_one_cached(\n",
      "  File \"C:\\Users\\maubeastK\\anaconda3\\lib\\site-packages\\joblib\\memory.py\", line 349, in __call__\n",
      "    return self.func(*args, **kwargs)\n",
      "  File \"C:\\Users\\maubeastK\\anaconda3\\lib\\site-packages\\sklearn\\pipeline.py\", line 893, in _fit_transform_one\n",
      "    res = transformer.fit_transform(X, y, **fit_params)\n",
      "  File \"C:\\Users\\maubeastK\\anaconda3\\lib\\site-packages\\sklearn\\compose\\_column_transformer.py\", line 672, in fit_transform\n",
      "    self._validate_column_callables(X)\n",
      "  File \"C:\\Users\\maubeastK\\anaconda3\\lib\\site-packages\\sklearn\\compose\\_column_transformer.py\", line 352, in _validate_column_callables\n",
      "    transformer_to_input_indices[name] = _get_column_indices(X, columns)\n",
      "  File \"C:\\Users\\maubeastK\\anaconda3\\lib\\site-packages\\sklearn\\utils\\__init__.py\", line 441, in _get_column_indices\n",
      "    raise ValueError(\"A given column is not a column of the dataframe\") from e\n",
      "ValueError: A given column is not a column of the dataframe\n",
      "\n",
      "  warnings.warn(some_fits_failed_message, FitFailedWarning)\n"
     ]
    },
    {
     "ename": "AttributeError",
     "evalue": "'NoneType' object has no attribute 'named_steps'",
     "output_type": "error",
     "traceback": [
      "\u001b[1;31m---------------------------------------------------------------------------\u001b[0m",
      "\u001b[1;31mAttributeError\u001b[0m                            Traceback (most recent call last)",
      "Input \u001b[1;32mIn [60]\u001b[0m, in \u001b[0;36m<cell line: 21>\u001b[1;34m()\u001b[0m\n\u001b[0;32m     18\u001b[0m         best_score \u001b[38;5;241m=\u001b[39m score\u001b[38;5;241m.\u001b[39mmean()\n\u001b[0;32m     19\u001b[0m         best_pipe \u001b[38;5;241m=\u001b[39m pipe\n\u001b[1;32m---> 21\u001b[0m \u001b[38;5;28mprint\u001b[39m(\u001b[38;5;124mf\u001b[39m\u001b[38;5;124m'\u001b[39m\u001b[38;5;124mbest model: \u001b[39m\u001b[38;5;132;01m{\u001b[39;00m\u001b[38;5;28mtype\u001b[39m(best_pipe\u001b[38;5;241m.\u001b[39mnamed_steps[\u001b[38;5;124m\"\u001b[39m\u001b[38;5;124mclassifier\u001b[39m\u001b[38;5;124m\"\u001b[39m])\u001b[38;5;241m.\u001b[39m\u001b[38;5;18m__name__\u001b[39m\u001b[38;5;132;01m}\u001b[39;00m\u001b[38;5;124m, accuracy: \u001b[39m\u001b[38;5;132;01m{\u001b[39;00mbest_score\u001b[38;5;132;01m:\u001b[39;00m\u001b[38;5;124m.4f\u001b[39m\u001b[38;5;132;01m}\u001b[39;00m\u001b[38;5;124m'\u001b[39m)\n",
      "\u001b[1;31mAttributeError\u001b[0m: 'NoneType' object has no attribute 'named_steps'"
     ]
    }
   ],
   "source": [
    "models = (\n",
    "        LogisticRegression(solver='liblinear'),\n",
    "        RandomForestClassifier(),\n",
    "        MLPClassifier(activation='logistic', hidden_layer_sizes=(256, 128, 64))\n",
    "    )\n",
    "\n",
    "best_score = .0\n",
    "best_pipe = None\n",
    "for model in models:\n",
    "    pipe = Pipeline(steps=[\n",
    "        ('preprocessor', preprocessor),\n",
    "        ('classifier', model)\n",
    "    ])\n",
    "    score = cross_val_score(pipe, X, y, cv=4, scoring='accuracy')\n",
    "    print(f'model: {type(model).__name__}, acc_mean: {score.mean():.4f}, acc_std: {score.std():.4f}')\n",
    "\n",
    "    if score.mean() > best_score:\n",
    "        best_score = score.mean()\n",
    "        best_pipe = pipe\n",
    "\n",
    "print(f'best model: {type(best_pipe.named_steps[\"classifier\"]).__name__}, accuracy: {best_score:.4f}')"
   ]
  },
  {
   "cell_type": "code",
   "execution_count": null,
   "id": "422591f0-b210-4808-b453-78be76a72890",
   "metadata": {},
   "outputs": [],
   "source": []
  }
 ],
 "metadata": {
  "kernelspec": {
   "display_name": "Python 3 (ipykernel)",
   "language": "python",
   "name": "python3"
  },
  "language_info": {
   "codemirror_mode": {
    "name": "ipython",
    "version": 3
   },
   "file_extension": ".py",
   "mimetype": "text/x-python",
   "name": "python",
   "nbconvert_exporter": "python",
   "pygments_lexer": "ipython3",
   "version": "3.9.12"
  }
 },
 "nbformat": 4,
 "nbformat_minor": 5
}
